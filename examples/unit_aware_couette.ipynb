{
 "cells": [
  {
   "cell_type": "code",
   "execution_count": 1,
   "id": "0a89f429-bab4-4a0f-800c-a0c8e1c7bf9b",
   "metadata": {
    "tags": []
   },
   "outputs": [],
   "source": [
    "from typing import Callable\n",
    "\n",
    "import diffrax\n",
    "import equinox as eqx  # https://github.com/patrick-kidger/equinox\n",
    "import jax\n",
    "import jax.lax as lax\n",
    "import jax.numpy as jnp\n",
    "import matplotlib.pyplot as plt\n",
    "from jaxtyping import Array, Float  # https://github.com/google/jaxtyping\n",
    "import brainunit as u\n",
    "\n",
    "jax.config.update(\"jax_enable_x64\", True)"
   ]
  },
  {
   "cell_type": "code",
   "execution_count": 2,
   "id": "16da14af-420a-4d25-aa06-515a9baa50c2",
   "metadata": {
    "tags": []
   },
   "outputs": [],
   "source": [
    "# Represents the interval [x0, x_final] discretised into n equally-spaced points.\n",
    "class SpatialDiscretisation(eqx.Module):\n",
    "    x0: float = eqx.field(static=True)\n",
    "    x_final: float = eqx.field(static=True)\n",
    "    vals: Float[Array, \"n\"]\n",
    "\n",
    "    @classmethod\n",
    "    def discretise_fn(cls, x0: float, x_final: float, n: int, fn: Callable):\n",
    "        if n < 2:\n",
    "            raise ValueError(\"Must discretise [x0, x_final] into at least two points\")\n",
    "        vals = jax.vmap(fn)(u.math.linspace(x0,x_final,n))\n",
    "        return cls(x0, x_final, vals)\n",
    "\n",
    "    @property\n",
    "    def δx(self):\n",
    "        return (self.x_final - self.x0) / (len(self.vals) - 1)\n",
    "\n",
    "    def binop(self, other, fn):\n",
    "        if isinstance(other, SpatialDiscretisation):\n",
    "            if self.x0 != other.x0 or self.x_final != other.x_final:\n",
    "                raise ValueError(\"Mismatched spatial discretisations\")\n",
    "            other = other.vals\n",
    "        return SpatialDiscretisation(self.x0, self.x_final, fn(self.vals, other))\n",
    "\n",
    "    def __add__(self, other):\n",
    "        return self.binop(other, lambda x, y: x + y)\n",
    "\n",
    "    def __mul__(self, other):\n",
    "        return self.binop(other, lambda x, y: x * y)\n",
    "\n",
    "    def __radd__(self, other):\n",
    "        return self.binop(other, lambda x, y: y + x)\n",
    "\n",
    "    def __rmul__(self, other):\n",
    "        return self.binop(other, lambda x, y: y * x)\n",
    "\n",
    "    def __sub__(self, other):\n",
    "        return self.binop(other, lambda x, y: x - y)\n",
    "\n",
    "    def __rsub__(self, other):\n",
    "        return self.binop(other, lambda x, y: y - x)\n",
    "    \n",
    "    def __truediv__(self, other):\n",
    "        return self.binop(other, lambda x, y: x / y)\n",
    "\n",
    "\n",
    "def laplacian(y: SpatialDiscretisation) -> SpatialDiscretisation:\n",
    "    y_next = u.math.roll(y.vals, shift=1)\n",
    "    y_prev = u.math.roll(y.vals, shift=-1)\n",
    "        \n",
    "    Δy = (y_next - 2 * y.vals + y_prev) / (y.δx**2)\n",
    "\n",
    "    # Dirichlet boundary condition\n",
    "    Δy = Δy.at[0].set(0 /(u.meter * u.second))\n",
    "    Δy = Δy.at[-1].set(0/(u.meter * u.second))\n",
    "    return SpatialDiscretisation(y.x0, y.x_final, Δy)"
   ]
  },
  {
   "cell_type": "markdown",
   "id": "7482e079-5ed1-4bc7-85a5-dcee3717ce7f",
   "metadata": {},
   "source": [
    "First let's try solving this semidiscretisation directly, as a system of ODEs."
   ]
  },
  {
   "cell_type": "code",
   "execution_count": 3,
   "id": "d304a9d0-58c7-4d29-91e6-10bc65406b73",
   "metadata": {
    "tags": []
   },
   "outputs": [
    {
     "name": "stderr",
     "output_type": "stream",
     "text": [
      "/var/folders/zp/x7t5tyz54s9g9bmcv3stqzlc0000gn/T/ipykernel_30290/3586489615.py:12: UserWarning: A JAX array is being set as static! This can result in unexpected behavior and is usually a mistake to do.\n",
      "  return cls(x0, x_final, vals)\n"
     ]
    }
   ],
   "source": [
    "# Problem\n",
    "def vector_field(t, y, args):\n",
    "    return laplacian(y) * 2e-4 * (u.meter)**2 / u.second \n",
    "\n",
    "\n",
    "term = diffrax.ODETerm(vector_field)\n",
    "\n",
    "def ic(x):\n",
    "    return u.math.where(x == 1 * u.meter, 1.0 * u.meter/u.second, 0.0 * u.meter/u.second)\n",
    "\n",
    "\n",
    "# Spatial discretisation\n",
    "x0 = 0 * u.meter\n",
    "x_final = 1 * u.meter\n",
    "n = 21\n",
    "y0 = SpatialDiscretisation.discretise_fn(x0, x_final, n, ic)\n",
    "\n",
    "# Temporal discretisation\n",
    "t0 = 0 * u.second\n",
    "t_final = 2500 * u.second\n",
    "δt = 12.5 * u.second\n",
    "saveat = diffrax.SaveAt(ts=u.math.linspace(t0, t_final, 21))\n",
    "\n",
    "# Tolerances\n",
    "rtol = 1e-10\n",
    "atol = 1e-10\n",
    "stepsize_controller = diffrax.PIDController(\n",
    "    pcoeff=0.3, icoeff=0.4, rtol=rtol, atol=atol #, dtmax=12.5 * u.second\n",
    ")\n"
   ]
  },
  {
   "cell_type": "code",
   "execution_count": 4,
   "id": "d1ad0404-5a13-4506-bdab-cdcfaf5be609",
   "metadata": {
    "tags": []
   },
   "outputs": [
    {
     "name": "stderr",
     "output_type": "stream",
     "text": [
      "/var/folders/zp/x7t5tyz54s9g9bmcv3stqzlc0000gn/T/ipykernel_30290/3586489615.py:56: UserWarning: A JAX array is being set as static! This can result in unexpected behavior and is usually a mistake to do.\n",
      "  return SpatialDiscretisation(y.x0, y.x_final, Δy)\n",
      "/var/folders/zp/x7t5tyz54s9g9bmcv3stqzlc0000gn/T/ipykernel_30290/3586489615.py:23: UserWarning: A JAX array is being set as static! This can result in unexpected behavior and is usually a mistake to do.\n",
      "  return SpatialDiscretisation(self.x0, self.x_final, fn(self.vals, other))\n",
      "/var/folders/zp/x7t5tyz54s9g9bmcv3stqzlc0000gn/T/ipykernel_30290/3586489615.py:56: UserWarning: A JAX array is being set as static! This can result in unexpected behavior and is usually a mistake to do.\n",
      "  return SpatialDiscretisation(y.x0, y.x_final, Δy)\n",
      "/var/folders/zp/x7t5tyz54s9g9bmcv3stqzlc0000gn/T/ipykernel_30290/3586489615.py:23: UserWarning: A JAX array is being set as static! This can result in unexpected behavior and is usually a mistake to do.\n",
      "  return SpatialDiscretisation(self.x0, self.x_final, fn(self.vals, other))\n",
      "/var/folders/zp/x7t5tyz54s9g9bmcv3stqzlc0000gn/T/ipykernel_30290/3586489615.py:56: UserWarning: A JAX array is being set as static! This can result in unexpected behavior and is usually a mistake to do.\n",
      "  return SpatialDiscretisation(y.x0, y.x_final, Δy)\n",
      "/var/folders/zp/x7t5tyz54s9g9bmcv3stqzlc0000gn/T/ipykernel_30290/3586489615.py:23: UserWarning: A JAX array is being set as static! This can result in unexpected behavior and is usually a mistake to do.\n",
      "  return SpatialDiscretisation(self.x0, self.x_final, fn(self.vals, other))\n"
     ]
    }
   ],
   "source": [
    "solver = diffrax.Tsit5()\n",
    "sol = diffrax.diffeqsolve(\n",
    "    term,\n",
    "    solver,\n",
    "    t0,\n",
    "    t_final,\n",
    "    δt,\n",
    "    y0,\n",
    "    saveat=saveat,\n",
    "    stepsize_controller=stepsize_controller,\n",
    "    max_steps=None,\n",
    ")"
   ]
  },
  {
   "cell_type": "code",
   "execution_count": 5,
   "id": "28185196-75f2-4465-ad59-ff45ec8c4d01",
   "metadata": {
    "tags": []
   },
   "outputs": [
    {
     "data": {
      "image/png": "[encoded data removed]",
      "text/plain": [
       "<Figure size 500x500 with 2 Axes>"
      ]
     },
     "metadata": {},
     "output_type": "display_data"
    }
   ],
   "source": [
    "plt.figure(figsize=(5, 5))\n",
    "plt.imshow(\n",
    "    sol.ys.vals * u.second /u.meter,\n",
    "    origin=\"lower\",\n",
    "    extent=(x0 /u.meter, x_final/u.meter, t0/u.second, t_final/u.second),\n",
    "    aspect=(x_final/u.meter - x0/u.meter) / (t_final/u.second - t0/u.second),\n",
    "    cmap=\"inferno\",\n",
    ")\n",
    "plt.xlabel(\"x\")\n",
    "plt.ylabel(\"t\", rotation=0)\n",
    "plt.clim(0, 1)\n",
    "plt.colorbar()\n",
    "plt.show()"
   ]
  }
 ],
 "metadata": {
  "kernelspec": {
   "display_name": "diffrax",
   "language": "python",
   "name": "python3"
  },
  "language_info": {
   "codemirror_mode": {
    "name": "ipython",
    "version": 3
   },
   "file_extension": ".py",
   "mimetype": "text/x-python",
   "name": "python",
   "nbconvert_exporter": "python",
   "pygments_lexer": "ipython3",
   "version": "3.10.16"
  }
 },
 "nbformat": 4,
 "nbformat_minor": 5
}
